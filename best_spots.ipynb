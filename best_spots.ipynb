{
  "cells": [
    {
      "cell_type": "markdown",
      "metadata": {
        "id": "view-in-github",
        "colab_type": "text"
      },
      "source": [
        "<a href=\"https://colab.research.google.com/github/akilasarva/jaxa_work/blob/main/best_spots.ipynb\" target=\"_parent\"><img src=\"https://colab.research.google.com/assets/colab-badge.svg\" alt=\"Open In Colab\"/></a>"
      ]
    },
    {
      "cell_type": "code",
      "execution_count": 1,
      "metadata": {
        "id": "MJYwAu1cNThJ",
        "outputId": "832f9235-f8db-43be-86cb-9a505829a11c",
        "colab": {
          "base_uri": "https://localhost:8080/",
          "height": 444
        }
      },
      "outputs": [
        {
          "output_type": "stream",
          "name": "stdout",
          "text": [
            "Looking in indexes: https://pypi.org/simple, https://us-python.pkg.dev/colab-wheels/public/simple/\n",
            "Collecting gurobipy\n",
            "  Downloading gurobipy-10.0.0-cp38-cp38-manylinux2014_x86_64.whl (12.8 MB)\n",
            "\u001b[K     |████████████████████████████████| 12.8 MB 18.4 MB/s \n",
            "\u001b[?25hInstalling collected packages: gurobipy\n",
            "Successfully installed gurobipy-10.0.0\n"
          ]
        },
        {
          "output_type": "error",
          "ename": "ImportError",
          "evalue": "ignored",
          "traceback": [
            "\u001b[0;31m---------------------------------------------------------------------------\u001b[0m",
            "\u001b[0;31mImportError\u001b[0m                               Traceback (most recent call last)",
            "\u001b[0;32m<ipython-input-1-b842d8d354ba>\u001b[0m in \u001b[0;36m<module>\u001b[0;34m\u001b[0m\n\u001b[1;32m     15\u001b[0m \u001b[0;32mimport\u001b[0m \u001b[0mos\u001b[0m\u001b[0;34m\u001b[0m\u001b[0;34m\u001b[0m\u001b[0m\n\u001b[1;32m     16\u001b[0m \u001b[0;32mimport\u001b[0m \u001b[0mmath\u001b[0m\u001b[0;34m\u001b[0m\u001b[0;34m\u001b[0m\u001b[0m\n\u001b[0;32m---> 17\u001b[0;31m \u001b[0;32mfrom\u001b[0m \u001b[0mkeras\u001b[0m\u001b[0;34m.\u001b[0m\u001b[0mpreprocessing\u001b[0m\u001b[0;34m.\u001b[0m\u001b[0mimage\u001b[0m \u001b[0;32mimport\u001b[0m \u001b[0msave_img\u001b[0m\u001b[0;34m\u001b[0m\u001b[0;34m\u001b[0m\u001b[0m\n\u001b[0m",
            "\u001b[0;31mImportError\u001b[0m: cannot import name 'save_img' from 'keras.preprocessing.image' (/usr/local/lib/python3.8/dist-packages/keras/preprocessing/image.py)",
            "",
            "\u001b[0;31m---------------------------------------------------------------------------\u001b[0;32m\nNOTE: If your import is failing due to a missing package, you can\nmanually install dependencies using either !pip or !apt.\n\nTo view examples of installing some common dependencies, click the\n\"Open Examples\" button below.\n\u001b[0;31m---------------------------------------------------------------------------\u001b[0m\n"
          ],
          "errorDetails": {
            "actions": [
              {
                "action": "open_url",
                "actionText": "Open Examples",
                "url": "/notebooks/snippets/importing_libraries.ipynb"
              }
            ]
          }
        }
      ],
      "source": [
        "%pip install gurobipy\n",
        "%matplotlib inline\n",
        "import random\n",
        "\n",
        "import gurobipy as gp\n",
        "from gurobipy import GRB\n",
        "\n",
        "import matplotlib.pyplot as plt\n",
        "import numpy as np\n",
        "from sklearn.cluster import MiniBatchKMeans\n",
        "\n",
        "from PIL import Image, ImageDraw\n",
        "import numpy as np\n",
        "import cv2\n",
        "import os\n",
        "import math\n",
        "from keras.preprocessing.image import save_img"
      ]
    },
    {
      "cell_type": "code",
      "execution_count": null,
      "metadata": {
        "id": "ByzVFv_2NThP"
      },
      "outputs": [],
      "source": [
        "def find_color(f, im, mincolor, maxcolor, colorname):\n",
        "  hsv_img = cv2.cvtColor(im, cv2.COLOR_BGR2HSV)\n",
        "  COLOR_MIN = np.array(mincolor,np.uint8)\n",
        "  COLOR_MAX = np.array(maxcolor,np.uint8) \n",
        "  mask = cv2.inRange(np.float32(hsv_img), COLOR_MIN, COLOR_MAX)\n",
        "\n",
        "  imask = mask>0\n",
        "  color = np.zeros_like(im, np.uint8)\n",
        "  color[imask] = im[imask]\n",
        "  coords = np.array(np.where(imask)).T\n",
        "  color = cv2.resize(color, (700, 700))\n",
        "  cv2.imwrite(colorname + '_' + f, color)\n",
        "  return list(coords)\n",
        "\n",
        "def dist(loc1, loc2):\n",
        "    return np.linalg.norm(loc1-loc2, ord=2) # Euclidean distance\n",
        "\n",
        "def get_locs(f):\n",
        "  img = cv2.imread(f)\n",
        "  w,h,_ = img.shape\n",
        "  o_coords = find_color(f, img, [10, 50, 50], [22, 255, 255], 'orange')\n",
        "  r_coords = find_color(f, img, [0, 100, 20], [9, 255, 255], 'red')\n",
        "  g_coords = find_color(f, img, [35, 90, 90], [85, 255, 255], 'green')\n",
        "\n",
        "  customer_locs = [*g_coords, *o_coords, *o_coords, *r_coords, *r_coords, *r_coords]\n",
        "  facility_locs = []\n",
        "\n",
        "  for i in range(5):\n",
        "    for j in range(5):\n",
        "      facility_locs += [(h*1.0*i/5 + h/10, w*1.0*j/5 + w/10)]\n",
        "  return customer_locs, facility_locs\n",
        "\n",
        "def kmean(num_clusters, seed, customer_locs):\n",
        "  kmeans = MiniBatchKMeans(n_clusters=num_clusters, init_size=3*num_clusters, random_state=seed).fit(customer_locs)\n",
        "  memberships = list(kmeans.labels_)\n",
        "  centroids = list(kmeans.cluster_centers_) #center point for each cluster\n",
        "  weights = list(np.histogram(memberships, bins=num_clusters)[0]) #number of customers in each cluster\n",
        "  \n",
        "  return centroids, weights\n",
        "\n",
        "def plots(customer_locs, centroids, facility_locs, pairings, f):\n",
        "  num = 7\n",
        "  plt.figure(figsize=(7,7))\n",
        "  plt.axis('off')\n",
        "  plt.scatter(*zip(*customer_locs), c='Pink', s=0.2)\n",
        "  plt.scatter(*zip(*centroids), c='Red', s=10)\n",
        "  plt.scatter(*zip(*facility_locs), c='Green', s=10)\n",
        "  ax = plt.gca() #you first need to get the axis handle\n",
        "  ax.set_aspect(1)\n",
        "\n",
        "  assignments = [p for p in pairings if assign[p].x > 0.5]\n",
        "  fac_assign = []\n",
        "  for p in assignments:\n",
        "      pts = [facility_locs[p[0]], centroids[p[1]]]\n",
        "      if facility_locs[p[0]] not in fac_assign:\n",
        "        fac_assign.append(facility_locs[p[0]])\n",
        "      plt.plot(*zip(*pts), c='Black', linewidth=0.5)\n",
        "  plt.scatter(*zip(*fac_assign), s=threshold*num*9, alpha=0.2, c = 'blue')\n",
        "  plt.savefig('output_'+f)\n",
        "  plt.clf()"
      ]
    },
    {
      "cell_type": "code",
      "source": [
        "seed = 10101\n",
        "num_candidates = 25\n",
        "max_facilities = 4\n",
        "num_clusters = 25\n",
        "threshold = 400\n",
        "\n",
        "fs = ['4pm.png', '8am.png','12pm.png', '230pm.png', '530pm.png', '10pm.png']\n",
        "\n",
        "for f in fs:\n",
        "  customer_locs, facility_locs = get_locs(f)\n",
        "  centroids, weights = kmean(num_clusters, seed, customer_locs)\n",
        "\n",
        "  pairings = {(facility, cluster): dist(facility_locs[facility], centroids[cluster])\n",
        "            for facility in range(num_candidates)\n",
        "            for cluster in range(num_clusters) \n",
        "            if  dist(facility_locs[facility], centroids[cluster]) < threshold}\n",
        "\n",
        "  print(\"Number of viable pairings: {0}\".format(len(pairings.keys())))\n",
        "\n",
        "  m = gp.Model(\"Facility location\")\n",
        "  # Decision variables: select facility locations\n",
        "  select = m.addVars(range(num_candidates), vtype=GRB.BINARY, name='select')\n",
        "  # Decision variables: assign customer clusters to a facility location\n",
        "  assign = m.addVars(pairings.keys(), vtype=GRB.BINARY, name='assign')\n",
        "\n",
        "  # Deploy Objective Function\n",
        "  # 0. Total distance\n",
        "  obj = gp.quicksum(weights[cluster]\n",
        "                *pairings[facility, cluster]\n",
        "                *assign[facility, cluster]\n",
        "                for facility, cluster in pairings.keys())\n",
        "  m.setObjective(obj, GRB.MINIMIZE)\n",
        "\n",
        "  # 1. Facility limit\n",
        "  m.addConstr(select.sum() <= max_facilities, name=\"Facility_limit\")\n",
        "\n",
        "  # 1b. Proximity constraints\n",
        "  #m.addConstr(select)\n",
        "\n",
        "  # 2. Open to assign\n",
        "  m.addConstrs((assign[facility, cluster] <= select[facility]\n",
        "              for facility, cluster in pairings.keys()),\n",
        "              name=\"Open2assign\")\n",
        "\n",
        "  # 3. Closest store\n",
        "  m.addConstrs((assign.sum('*', cluster) == 1\n",
        "              for cluster in range(num_clusters)),\n",
        "              name=\"Closest_store\")\n",
        "\n",
        "  # Find the optimal solution\n",
        "  m.optimize()  \n",
        "\n",
        "  plots(customer_locs, centroids, facility_locs, pairings, f)"
      ],
      "metadata": {
        "id": "aBbK8Mt0yKsd",
        "colab": {
          "base_uri": "https://localhost:8080/",
          "height": 1000
        },
        "outputId": "15f5b26a-6c0b-426e-d681-d0f058879fbb"
      },
      "execution_count": null,
      "outputs": [
        {
          "output_type": "stream",
          "name": "stdout",
          "text": [
            "Number of viable pairings: 298\n",
            "Gurobi Optimizer version 9.5.1 build v9.5.1rc2 (linux64)\n",
            "Thread count: 1 physical cores, 2 logical processors, using up to 2 threads\n",
            "Optimize a model with 324 rows, 323 columns and 919 nonzeros\n",
            "Model fingerprint: 0x973bae8f\n",
            "Variable types: 0 continuous, 323 integer (323 binary)\n",
            "Coefficient statistics:\n",
            "  Matrix range     [1e+00, 1e+00]\n",
            "  Objective range  [2e+04, 5e+06]\n",
            "  Bounds range     [1e+00, 1e+00]\n",
            "  RHS range        [1e+00, 4e+00]\n",
            "Presolve time: 0.00s\n",
            "Presolved: 324 rows, 323 columns, 919 nonzeros\n",
            "Variable types: 0 continuous, 323 integer (323 binary)\n",
            "Found heuristic solution: objective 4.353226e+07\n",
            "\n",
            "Root relaxation: objective 2.937089e+07, 173 iterations, 0.00 seconds (0.00 work units)\n",
            "\n",
            "    Nodes    |    Current Node    |     Objective Bounds      |     Work\n",
            " Expl Unexpl |  Obj  Depth IntInf | Incumbent    BestBd   Gap | It/Node Time\n",
            "\n",
            "*    0     0               0    2.937089e+07 2.9371e+07  0.00%     -    0s\n",
            "\n",
            "Explored 1 nodes (173 simplex iterations) in 0.05 seconds (0.00 work units)\n",
            "Thread count was 2 (of 2 available processors)\n",
            "\n",
            "Solution count 2: 2.93709e+07 4.35323e+07 \n",
            "\n",
            "Optimal solution found (tolerance 1.00e-04)\n",
            "Best objective 2.937088861968e+07, best bound 2.937088861968e+07, gap 0.0000%\n",
            "Number of viable pairings: 299\n",
            "Gurobi Optimizer version 9.5.1 build v9.5.1rc2 (linux64)\n",
            "Thread count: 1 physical cores, 2 logical processors, using up to 2 threads\n",
            "Optimize a model with 325 rows, 324 columns and 922 nonzeros\n",
            "Model fingerprint: 0x3d1766ca\n",
            "Variable types: 0 continuous, 324 integer (324 binary)\n",
            "Coefficient statistics:\n",
            "  Matrix range     [1e+00, 1e+00]\n",
            "  Objective range  [5e+04, 4e+06]\n",
            "  Bounds range     [1e+00, 1e+00]\n",
            "  RHS range        [1e+00, 4e+00]\n",
            "Presolve time: 0.00s\n",
            "Presolved: 325 rows, 324 columns, 922 nonzeros\n",
            "Variable types: 0 continuous, 324 integer (324 binary)\n",
            "Found heuristic solution: objective 3.181285e+07\n",
            "\n",
            "Root relaxation: objective 2.177597e+07, 187 iterations, 0.00 seconds (0.00 work units)\n",
            "\n",
            "    Nodes    |    Current Node    |     Objective Bounds      |     Work\n",
            " Expl Unexpl |  Obj  Depth IntInf | Incumbent    BestBd   Gap | It/Node Time\n",
            "\n",
            "*    0     0               0    2.177597e+07 2.1776e+07  0.00%     -    0s\n",
            "\n",
            "Explored 1 nodes (187 simplex iterations) in 0.04 seconds (0.00 work units)\n",
            "Thread count was 2 (of 2 available processors)\n",
            "\n",
            "Solution count 2: 2.1776e+07 3.18129e+07 \n",
            "\n",
            "Optimal solution found (tolerance 1.00e-04)\n",
            "Best objective 2.177597217719e+07, best bound 2.177597217719e+07, gap 0.0000%\n",
            "Number of viable pairings: 307\n",
            "Gurobi Optimizer version 9.5.1 build v9.5.1rc2 (linux64)\n",
            "Thread count: 1 physical cores, 2 logical processors, using up to 2 threads\n",
            "Optimize a model with 333 rows, 332 columns and 946 nonzeros\n",
            "Model fingerprint: 0xb0951ba3\n",
            "Variable types: 0 continuous, 332 integer (332 binary)\n",
            "Coefficient statistics:\n",
            "  Matrix range     [1e+00, 1e+00]\n",
            "  Objective range  [2e+04, 5e+06]\n",
            "  Bounds range     [1e+00, 1e+00]\n",
            "  RHS range        [1e+00, 4e+00]\n",
            "Presolve time: 0.00s\n",
            "Presolved: 333 rows, 332 columns, 946 nonzeros\n",
            "Variable types: 0 continuous, 332 integer (332 binary)\n",
            "Found heuristic solution: objective 3.310475e+07\n",
            "\n",
            "Root relaxation: objective 2.279255e+07, 161 iterations, 0.00 seconds (0.00 work units)\n",
            "\n",
            "    Nodes    |    Current Node    |     Objective Bounds      |     Work\n",
            " Expl Unexpl |  Obj  Depth IntInf | Incumbent    BestBd   Gap | It/Node Time\n",
            "\n",
            "*    0     0               0    2.279255e+07 2.2793e+07  0.00%     -    0s\n",
            "\n",
            "Explored 1 nodes (161 simplex iterations) in 0.04 seconds (0.00 work units)\n",
            "Thread count was 2 (of 2 available processors)\n",
            "\n",
            "Solution count 2: 2.27925e+07 3.31048e+07 \n",
            "\n",
            "Optimal solution found (tolerance 1.00e-04)\n",
            "Best objective 2.279254954653e+07, best bound 2.279254954653e+07, gap 0.0000%\n",
            "Number of viable pairings: 306\n",
            "Gurobi Optimizer version 9.5.1 build v9.5.1rc2 (linux64)\n",
            "Thread count: 1 physical cores, 2 logical processors, using up to 2 threads\n",
            "Optimize a model with 332 rows, 331 columns and 943 nonzeros\n",
            "Model fingerprint: 0x5766123a\n",
            "Variable types: 0 continuous, 331 integer (331 binary)\n",
            "Coefficient statistics:\n",
            "  Matrix range     [1e+00, 1e+00]\n",
            "  Objective range  [1e+04, 5e+06]\n",
            "  Bounds range     [1e+00, 1e+00]\n",
            "  RHS range        [1e+00, 4e+00]\n",
            "Presolve time: 0.00s\n",
            "Presolved: 332 rows, 331 columns, 943 nonzeros\n",
            "Variable types: 0 continuous, 331 integer (331 binary)\n",
            "Found heuristic solution: objective 3.527032e+07\n",
            "\n",
            "Root relaxation: objective 2.457671e+07, 195 iterations, 0.01 seconds (0.00 work units)\n",
            "\n",
            "    Nodes    |    Current Node    |     Objective Bounds      |     Work\n",
            " Expl Unexpl |  Obj  Depth IntInf | Incumbent    BestBd   Gap | It/Node Time\n",
            "\n",
            "*    0     0               0    2.457671e+07 2.4577e+07  0.00%     -    0s\n",
            "\n",
            "Explored 1 nodes (195 simplex iterations) in 0.07 seconds (0.00 work units)\n",
            "Thread count was 2 (of 2 available processors)\n",
            "\n",
            "Solution count 2: 2.45767e+07 3.52703e+07 \n",
            "\n",
            "Optimal solution found (tolerance 1.00e-04)\n",
            "Best objective 2.457671451066e+07, best bound 2.457671451066e+07, gap 0.0000%\n",
            "Number of viable pairings: 314\n",
            "Gurobi Optimizer version 9.5.1 build v9.5.1rc2 (linux64)\n",
            "Thread count: 1 physical cores, 2 logical processors, using up to 2 threads\n",
            "Optimize a model with 340 rows, 339 columns and 967 nonzeros\n",
            "Model fingerprint: 0x6820f347\n",
            "Variable types: 0 continuous, 339 integer (339 binary)\n",
            "Coefficient statistics:\n",
            "  Matrix range     [1e+00, 1e+00]\n",
            "  Objective range  [7e+04, 5e+06]\n",
            "  Bounds range     [1e+00, 1e+00]\n",
            "  RHS range        [1e+00, 4e+00]\n",
            "Presolve time: 0.00s\n",
            "Presolved: 340 rows, 339 columns, 967 nonzeros\n",
            "Variable types: 0 continuous, 339 integer (339 binary)\n",
            "Found heuristic solution: objective 3.782251e+07\n",
            "\n",
            "Root relaxation: objective 2.537801e+07, 168 iterations, 0.00 seconds (0.00 work units)\n",
            "\n",
            "    Nodes    |    Current Node    |     Objective Bounds      |     Work\n",
            " Expl Unexpl |  Obj  Depth IntInf | Incumbent    BestBd   Gap | It/Node Time\n",
            "\n",
            "*    0     0               0    2.537801e+07 2.5378e+07  0.00%     -    0s\n",
            "\n",
            "Explored 1 nodes (168 simplex iterations) in 0.04 seconds (0.00 work units)\n",
            "Thread count was 2 (of 2 available processors)\n",
            "\n",
            "Solution count 2: 2.5378e+07 3.78225e+07 \n",
            "\n",
            "Optimal solution found (tolerance 1.00e-04)\n",
            "Best objective 2.537801210312e+07, best bound 2.537801210312e+07, gap 0.0000%\n",
            "Number of viable pairings: 304\n",
            "Gurobi Optimizer version 9.5.1 build v9.5.1rc2 (linux64)\n",
            "Thread count: 1 physical cores, 2 logical processors, using up to 2 threads\n",
            "Optimize a model with 330 rows, 329 columns and 937 nonzeros\n",
            "Model fingerprint: 0x7c6905b5\n",
            "Variable types: 0 continuous, 329 integer (329 binary)\n",
            "Coefficient statistics:\n",
            "  Matrix range     [1e+00, 1e+00]\n",
            "  Objective range  [2e+04, 3e+06]\n",
            "  Bounds range     [1e+00, 1e+00]\n",
            "  RHS range        [1e+00, 4e+00]\n",
            "Presolve time: 0.00s\n",
            "Presolved: 330 rows, 329 columns, 937 nonzeros\n",
            "Variable types: 0 continuous, 329 integer (329 binary)\n",
            "Found heuristic solution: objective 2.551406e+07\n",
            "\n",
            "Root relaxation: objective 1.767577e+07, 174 iterations, 0.00 seconds (0.00 work units)\n",
            "\n",
            "    Nodes    |    Current Node    |     Objective Bounds      |     Work\n",
            " Expl Unexpl |  Obj  Depth IntInf | Incumbent    BestBd   Gap | It/Node Time\n",
            "\n",
            "*    0     0               0    1.767577e+07 1.7676e+07  0.00%     -    0s\n",
            "\n",
            "Explored 1 nodes (174 simplex iterations) in 0.04 seconds (0.00 work units)\n",
            "Thread count was 2 (of 2 available processors)\n",
            "\n",
            "Solution count 2: 1.76758e+07 2.55141e+07 \n",
            "\n",
            "Optimal solution found (tolerance 1.00e-04)\n",
            "Best objective 1.767576537290e+07, best bound 1.767576537290e+07, gap 0.0000%\n"
          ]
        },
        {
          "output_type": "display_data",
          "data": {
            "text/plain": [
              "<Figure size 504x504 with 0 Axes>"
            ]
          },
          "metadata": {}
        },
        {
          "output_type": "display_data",
          "data": {
            "text/plain": [
              "<Figure size 504x504 with 0 Axes>"
            ]
          },
          "metadata": {}
        },
        {
          "output_type": "display_data",
          "data": {
            "text/plain": [
              "<Figure size 504x504 with 0 Axes>"
            ]
          },
          "metadata": {}
        },
        {
          "output_type": "display_data",
          "data": {
            "text/plain": [
              "<Figure size 504x504 with 0 Axes>"
            ]
          },
          "metadata": {}
        },
        {
          "output_type": "display_data",
          "data": {
            "text/plain": [
              "<Figure size 504x504 with 0 Axes>"
            ]
          },
          "metadata": {}
        },
        {
          "output_type": "display_data",
          "data": {
            "text/plain": [
              "<Figure size 504x504 with 0 Axes>"
            ]
          },
          "metadata": {}
        }
      ]
    },
    {
      "cell_type": "code",
      "source": [
        "num =7\n",
        "plt.figure(figsize=(num,num))\n",
        "plt.axis('off')\n",
        "plt.scatter(*zip(*customer_locs), c='Pink', s=0.2)\n",
        "plt.scatter(*zip(*facility_locs), c='Green', s=10)\n",
        "ax = plt.gca() #you first need to get the axis handle\n",
        "ax.set_aspect(1)\n",
        "print(facility_locs)\n",
        "fac_assign = [(253, 230), (590, 230), (253, 536), (590,536)]\n",
        "plt.scatter(*zip(*fac_assign), s=threshold*num*7, alpha=0.2, c = 'blue')\n",
        "plt.savefig('output.png')\n",
        "plt.clf()"
      ],
      "metadata": {
        "colab": {
          "base_uri": "https://localhost:8080/",
          "height": 72
        },
        "id": "W6wIsdZm6gR4",
        "outputId": "92b069f6-1c04-4d24-e2c4-6902ea86f1e8"
      },
      "execution_count": null,
      "outputs": [
        {
          "output_type": "stream",
          "name": "stdout",
          "text": [
            "[(84.2, 76.5), (84.2, 229.5), (84.2, 382.5), (84.2, 535.5), (84.2, 688.5), (252.60000000000002, 76.5), (252.60000000000002, 229.5), (252.60000000000002, 382.5), (252.60000000000002, 535.5), (252.60000000000002, 688.5), (421.0, 76.5), (421.0, 229.5), (421.0, 382.5), (421.0, 535.5), (421.0, 688.5), (589.4, 76.5), (589.4, 229.5), (589.4, 382.5), (589.4, 535.5), (589.4, 688.5), (757.8000000000001, 76.5), (757.8000000000001, 229.5), (757.8000000000001, 382.5), (757.8000000000001, 535.5), (757.8000000000001, 688.5)]\n"
          ]
        },
        {
          "output_type": "display_data",
          "data": {
            "text/plain": [
              "<Figure size 504x504 with 0 Axes>"
            ]
          },
          "metadata": {}
        }
      ]
    }
  ],
  "metadata": {
    "kernelspec": {
      "display_name": "Python 3",
      "language": "python",
      "name": "python3"
    },
    "language_info": {
      "codemirror_mode": {
        "name": "ipython",
        "version": 3
      },
      "file_extension": ".py",
      "mimetype": "text/x-python",
      "name": "python",
      "nbconvert_exporter": "python",
      "pygments_lexer": "ipython3",
      "version": "3.7.1"
    },
    "colab": {
      "provenance": [],
      "include_colab_link": true
    }
  },
  "nbformat": 4,
  "nbformat_minor": 0
}